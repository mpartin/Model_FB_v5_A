{
 "cells": [
  {
   "cell_type": "code",
   "execution_count": 1,
   "metadata": {
    "collapsed": false,
    "scrolled": false
   },
   "outputs": [
    {
     "name": "stdout",
     "output_type": "stream",
     "text": [
      "Populating the interactive namespace from numpy and matplotlib\n",
      "--- 21.0870249271 seconds ---\n"
     ]
    }
   ],
   "source": [
    "%pylab inline\n",
    "from __future__ import division\n",
    "\n",
    "from main import *"
   ]
  },
  {
   "cell_type": "code",
   "execution_count": 2,
   "metadata": {
    "collapsed": true
   },
   "outputs": [],
   "source": [
    "# General functions #\n",
    "import sys\n",
    "sys.path.append('/Users/alexandre/Desktop/INRIA/Prog/Python/')\n",
    "\n",
    "from utils import ToHtmlTableColumns, DataFrame_to_html, DataFrame_plot_pylab"
   ]
  },
  {
   "cell_type": "code",
   "execution_count": 5,
   "metadata": {
    "collapsed": false
   },
   "outputs": [],
   "source": [
    "var_to_plot = ['h_caL13', 'm_caL13', 'o_AMPA', 'd_AMPA', 'o_NMDA', 'h_CICR', 'Ca_cyt', 'Ca_ER', 'IP3', 'Dag', 'Dgl',\n",
    "               'two_ag', 'AEA','fpre', 'I1P', 'PP1', 'V', 'o_CB1R', 'd_CB1R',\n",
    "               'B1', 'B2','B3', 'B4', 'B5', 'B6', 'B7', 'B8', 'B9', 'B10', 'B11', 'B12','B13', 'phos_sum', 'fpost',\n",
    "               'CamCa4', 'yCB1R', 'yCB1R']\n",
    "y_serie_temp = y_serie[var_to_plot]"
   ]
  },
  {
   "cell_type": "code",
   "execution_count": null,
   "metadata": {
    "collapsed": false,
    "scrolled": false
   },
   "outputs": [],
   "source": [
    "num_plot = 30\n",
    "nb_variable = len(y_serie_temp.columns)\n",
    "\n",
    "for i in xrange(int(nb_variable/num_plot)):\n",
    "    DataFrame_plot_pylab(y_serie_temp.iloc[:,i*num_plot:(i+1)*num_plot -1], fontsize = 30)\n",
    "DataFrame_plot_pylab(y_serie_temp.iloc[:,(i+1)*num_plot-1:(i+1)*num_plot-1 +nb_variable%num_plot], fontsize = 30)"
   ]
  },
  {
   "cell_type": "code",
   "execution_count": 7,
   "metadata": {
    "collapsed": false
   },
   "outputs": [
    {
     "data": {
      "text/plain": [
       "<matplotlib.collections.LineCollection at 0x119636ad0>"
      ]
     },
     "execution_count": 7,
     "metadata": {},
     "output_type": "execute_result"
    },
    {
     "data": {
      "image/png": "[encoded data removed]",
      "text/plain": [
       "<matplotlib.figure.Figure at 0x12de83490>"
      ]
     },
     "metadata": {},
     "output_type": "display_data"
    }
   ],
   "source": [
    "plt.plot(y_serie_temp['yCB1R'])\n",
    "plt.hlines(params_dict['LTDstart'], y_serie_temp.index[0],y_serie_temp.index[-1])\n",
    "plt.hlines(params_dict['LTDstop'], y_serie_temp.index[0],y_serie_temp.index[-1])\n",
    "plt.hlines(params_dict['LTPstart'], y_serie_temp.index[0],y_serie_temp.index[-1])"
   ]
  },
  {
   "cell_type": "code",
   "execution_count": 28,
   "metadata": {
    "collapsed": false
   },
   "outputs": [
    {
     "data": {
      "text/plain": [
       "2002.1755768629837"
      ]
     },
     "execution_count": 28,
     "metadata": {},
     "output_type": "execute_result"
    }
   ],
   "source": [
    "init_dict['CamCa4']"
   ]
  }
 ],
 "metadata": {
  "kernelspec": {
   "display_name": "Python 2",
   "language": "python",
   "name": "python2"
  },
  "language_info": {
   "codemirror_mode": {
    "name": "ipython",
    "version": 2
   },
   "file_extension": ".py",
   "mimetype": "text/x-python",
   "name": "python",
   "nbconvert_exporter": "python",
   "pygments_lexer": "ipython2",
   "version": "2.7.11"
  }
 },
 "nbformat": 4,
 "nbformat_minor": 0
}
